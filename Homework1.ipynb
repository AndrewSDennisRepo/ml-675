{
 "cells": [
  {
   "cell_type": "code",
   "execution_count": 9,
   "metadata": {},
   "outputs": [],
   "source": [
    "import pandas as pd\n",
    "import pandas_datareader.data as web\n",
    "import numpy as np\n",
    "\n",
    "all_data = {ticker: web.get_data_yahoo(ticker) for ticker in ['SPY', 'QQQ', 'XLF']}\n",
    "\n",
    "spy_df = all_data['SPY']\n",
    "qqq_df = all_data['QQQ']\n",
    "xlf_df = all_data['XLF']\n"
   ]
  },
  {
   "cell_type": "code",
   "execution_count": 45,
   "metadata": {
    "scrolled": true
   },
   "outputs": [],
   "source": [
    "def volatility(df):\n",
    "    return (df['High']- df['Low']) / df['Close']\n",
    "\n",
    "def _delta(df):\n",
    "    volume_delta = df['Volume'] - df['Volume'].shift(1)\n",
    "    volat_delta = df['Volatility'] - df['Volatility'].shift(1)\n",
    "    return volume_delta, volat_delta\n",
    "\n",
    "\n",
    "\n",
    "spy_df['Volatility'] = volatility(spy_df)\n",
    "qqq_df['Volatility'] = volatility(qqq_df)\n",
    "xlf_df['Volatility'] = volatility(xlf_df)\n",
    "\n",
    "\n",
    "spy_volume_delta, spy_vola_delta = _delta(spy_df)\n",
    "spy_df['Volume_Delta'] = spy_volume_delta\n",
    "spy_df['Volatility_Delta'] = spy_vola_delta\n",
    "\n",
    "\n",
    "qqq_volume_delta, qqq_vola_delta = _delta(qqq_df)\n",
    "qqq_df['Volume_Delta'] = qqq_volume_delta\n",
    "qqq_df['Volatility_Delta'] = qqq_vola_delta\n",
    "\n",
    "\n",
    "xlf_volume_delta, xlf_vola_delta = _delta(xlf_df)\n",
    "xlf_df['Volume_Delta'] = xlf_volume_delta\n",
    "xlf_df['Volatility_Delta'] = xlf_vola_delta"
   ]
  },
  {
   "cell_type": "code",
   "execution_count": 31,
   "metadata": {},
   "outputs": [],
   "source": [
    "vola_df = pd.DataFrame({'SPY': spy_df['Volatility'], 'QQQ': qqq_df['Volatility'], 'XLF': xlf_df['Volatility']})"
   ]
  },
  {
   "cell_type": "code",
   "execution_count": 38,
   "metadata": {},
   "outputs": [
    {
     "data": {
      "text/html": [
       "<div>\n",
       "<style scoped>\n",
       "    .dataframe tbody tr th:only-of-type {\n",
       "        vertical-align: middle;\n",
       "    }\n",
       "\n",
       "    .dataframe tbody tr th {\n",
       "        vertical-align: top;\n",
       "    }\n",
       "\n",
       "    .dataframe thead th {\n",
       "        text-align: right;\n",
       "    }\n",
       "</style>\n",
       "<table border=\"1\" class=\"dataframe\">\n",
       "  <thead>\n",
       "    <tr style=\"text-align: right;\">\n",
       "      <th></th>\n",
       "      <th>SPY</th>\n",
       "      <th>QQQ</th>\n",
       "      <th>XLF</th>\n",
       "    </tr>\n",
       "  </thead>\n",
       "  <tbody>\n",
       "    <tr>\n",
       "      <th>SPY</th>\n",
       "      <td>1.000000</td>\n",
       "      <td>0.925947</td>\n",
       "      <td>0.891894</td>\n",
       "    </tr>\n",
       "    <tr>\n",
       "      <th>QQQ</th>\n",
       "      <td>0.925947</td>\n",
       "      <td>1.000000</td>\n",
       "      <td>0.826294</td>\n",
       "    </tr>\n",
       "    <tr>\n",
       "      <th>XLF</th>\n",
       "      <td>0.891894</td>\n",
       "      <td>0.826294</td>\n",
       "      <td>1.000000</td>\n",
       "    </tr>\n",
       "  </tbody>\n",
       "</table>\n",
       "</div>"
      ],
      "text/plain": [
       "          SPY       QQQ       XLF\n",
       "SPY  1.000000  0.925947  0.891894\n",
       "QQQ  0.925947  1.000000  0.826294\n",
       "XLF  0.891894  0.826294  1.000000"
      ]
     },
     "execution_count": 38,
     "metadata": {},
     "output_type": "execute_result"
    }
   ],
   "source": [
    "vola_df.corr()"
   ]
  },
  {
   "cell_type": "markdown",
   "metadata": {},
   "source": [
    "From the correlation we can see that QQQ and XLF have a fairly strong correlation with SPY and less so between each other. QQQ does have a slightly stronger correlation but only slight."
   ]
  },
  {
   "cell_type": "code",
   "execution_count": 42,
   "metadata": {},
   "outputs": [
    {
     "data": {
      "text/plain": [
       "<matplotlib.axes._subplots.AxesSubplot at 0x1f07f089b38>"
      ]
     },
     "execution_count": 42,
     "metadata": {},
     "output_type": "execute_result"
    },
    {
     "data": {
      "image/png": "[encoded data removed]",
      "text/plain": [
       "<Figure size 432x288 with 1 Axes>"
      ]
     },
     "metadata": {
      "needs_background": "light"
     },
     "output_type": "display_data"
    }
   ],
   "source": [
    "vola_df.plot(x='SPY', y='QQQ', style='.')"
   ]
  },
  {
   "cell_type": "code",
   "execution_count": 43,
   "metadata": {},
   "outputs": [
    {
     "data": {
      "text/html": [
       "<div>\n",
       "<style scoped>\n",
       "    .dataframe tbody tr th:only-of-type {\n",
       "        vertical-align: middle;\n",
       "    }\n",
       "\n",
       "    .dataframe tbody tr th {\n",
       "        vertical-align: top;\n",
       "    }\n",
       "\n",
       "    .dataframe thead th {\n",
       "        text-align: right;\n",
       "    }\n",
       "</style>\n",
       "<table border=\"1\" class=\"dataframe\">\n",
       "  <thead>\n",
       "    <tr style=\"text-align: right;\">\n",
       "      <th></th>\n",
       "      <th>SPY</th>\n",
       "      <th>QQQ</th>\n",
       "      <th>XLF</th>\n",
       "    </tr>\n",
       "  </thead>\n",
       "  <tbody>\n",
       "    <tr>\n",
       "      <th>SPY</th>\n",
       "      <td>1.000000</td>\n",
       "      <td>0.772303</td>\n",
       "      <td>0.694013</td>\n",
       "    </tr>\n",
       "    <tr>\n",
       "      <th>QQQ</th>\n",
       "      <td>0.772303</td>\n",
       "      <td>1.000000</td>\n",
       "      <td>0.611255</td>\n",
       "    </tr>\n",
       "    <tr>\n",
       "      <th>XLF</th>\n",
       "      <td>0.694013</td>\n",
       "      <td>0.611255</td>\n",
       "      <td>1.000000</td>\n",
       "    </tr>\n",
       "  </tbody>\n",
       "</table>\n",
       "</div>"
      ],
      "text/plain": [
       "          SPY       QQQ       XLF\n",
       "SPY  1.000000  0.772303  0.694013\n",
       "QQQ  0.772303  1.000000  0.611255\n",
       "XLF  0.694013  0.611255  1.000000"
      ]
     },
     "execution_count": 43,
     "metadata": {},
     "output_type": "execute_result"
    }
   ],
   "source": [
    "volume_df = pd.DataFrame({'SPY': spy_df['Volume'], 'QQQ': qqq_df['Volume'], 'XLF': xlf_df['Volume']})\n",
    "volume_df.corr()"
   ]
  },
  {
   "cell_type": "markdown",
   "metadata": {},
   "source": [
    "We can see that volume has significantly less correlation than volatility. So we know that volume are not very related but we now do know that when one ETF is volatile others are typically volatile as well."
   ]
  },
  {
   "cell_type": "markdown",
   "metadata": {},
   "source": [
    "### Delta Comparison"
   ]
  },
  {
   "cell_type": "code",
   "execution_count": 46,
   "metadata": {},
   "outputs": [],
   "source": [
    "vola_delta_df = pd.DataFrame({'SPY': spy_df['Volatility_Delta'], 'QQQ': qqq_df['Volatility_Delta'], 'XLF': xlf_df['Volatility_Delta']})"
   ]
  },
  {
   "cell_type": "code",
   "execution_count": 47,
   "metadata": {},
   "outputs": [
    {
     "data": {
      "text/html": [
       "<div>\n",
       "<style scoped>\n",
       "    .dataframe tbody tr th:only-of-type {\n",
       "        vertical-align: middle;\n",
       "    }\n",
       "\n",
       "    .dataframe tbody tr th {\n",
       "        vertical-align: top;\n",
       "    }\n",
       "\n",
       "    .dataframe thead th {\n",
       "        text-align: right;\n",
       "    }\n",
       "</style>\n",
       "<table border=\"1\" class=\"dataframe\">\n",
       "  <thead>\n",
       "    <tr style=\"text-align: right;\">\n",
       "      <th></th>\n",
       "      <th>SPY</th>\n",
       "      <th>QQQ</th>\n",
       "      <th>XLF</th>\n",
       "    </tr>\n",
       "  </thead>\n",
       "  <tbody>\n",
       "    <tr>\n",
       "      <th>SPY</th>\n",
       "      <td>1.000000</td>\n",
       "      <td>0.777218</td>\n",
       "      <td>0.618184</td>\n",
       "    </tr>\n",
       "    <tr>\n",
       "      <th>QQQ</th>\n",
       "      <td>0.777218</td>\n",
       "      <td>1.000000</td>\n",
       "      <td>0.521990</td>\n",
       "    </tr>\n",
       "    <tr>\n",
       "      <th>XLF</th>\n",
       "      <td>0.618184</td>\n",
       "      <td>0.521990</td>\n",
       "      <td>1.000000</td>\n",
       "    </tr>\n",
       "  </tbody>\n",
       "</table>\n",
       "</div>"
      ],
      "text/plain": [
       "          SPY       QQQ       XLF\n",
       "SPY  1.000000  0.777218  0.618184\n",
       "QQQ  0.777218  1.000000  0.521990\n",
       "XLF  0.618184  0.521990  1.000000"
      ]
     },
     "execution_count": 47,
     "metadata": {},
     "output_type": "execute_result"
    }
   ],
   "source": [
    "vola_delta_df.corr()"
   ]
  },
  {
   "cell_type": "code",
   "execution_count": 48,
   "metadata": {},
   "outputs": [
    {
     "data": {
      "text/html": [
       "<div>\n",
       "<style scoped>\n",
       "    .dataframe tbody tr th:only-of-type {\n",
       "        vertical-align: middle;\n",
       "    }\n",
       "\n",
       "    .dataframe tbody tr th {\n",
       "        vertical-align: top;\n",
       "    }\n",
       "\n",
       "    .dataframe thead th {\n",
       "        text-align: right;\n",
       "    }\n",
       "</style>\n",
       "<table border=\"1\" class=\"dataframe\">\n",
       "  <thead>\n",
       "    <tr style=\"text-align: right;\">\n",
       "      <th></th>\n",
       "      <th>SPY</th>\n",
       "      <th>QQQ</th>\n",
       "      <th>XLF</th>\n",
       "    </tr>\n",
       "  </thead>\n",
       "  <tbody>\n",
       "    <tr>\n",
       "      <th>SPY</th>\n",
       "      <td>1.000000</td>\n",
       "      <td>0.743028</td>\n",
       "      <td>0.614286</td>\n",
       "    </tr>\n",
       "    <tr>\n",
       "      <th>QQQ</th>\n",
       "      <td>0.743028</td>\n",
       "      <td>1.000000</td>\n",
       "      <td>0.523345</td>\n",
       "    </tr>\n",
       "    <tr>\n",
       "      <th>XLF</th>\n",
       "      <td>0.614286</td>\n",
       "      <td>0.523345</td>\n",
       "      <td>1.000000</td>\n",
       "    </tr>\n",
       "  </tbody>\n",
       "</table>\n",
       "</div>"
      ],
      "text/plain": [
       "          SPY       QQQ       XLF\n",
       "SPY  1.000000  0.743028  0.614286\n",
       "QQQ  0.743028  1.000000  0.523345\n",
       "XLF  0.614286  0.523345  1.000000"
      ]
     },
     "execution_count": 48,
     "metadata": {},
     "output_type": "execute_result"
    }
   ],
   "source": [
    "volume_delta_df = pd.DataFrame({'SPY': spy_df['Volume_Delta'], 'QQQ': qqq_df['Volume_Delta'], 'XLF': xlf_df['Volume_Delta']})\n",
    "volume_delta_df.corr()"
   ]
  },
  {
   "cell_type": "markdown",
   "metadata": {},
   "source": [
    "In the case of Delta volume vs volatility the correlations are more closely related."
   ]
  },
  {
   "cell_type": "markdown",
   "metadata": {},
   "source": [
    "#### Let us see if previous day volume / volatitility of the SPY can help us predict the volume / volatitity of another ETF such as QQQ"
   ]
  },
  {
   "cell_type": "code",
   "execution_count": 66,
   "metadata": {},
   "outputs": [
    {
     "data": {
      "text/html": [
       "<div>\n",
       "<style scoped>\n",
       "    .dataframe tbody tr th:only-of-type {\n",
       "        vertical-align: middle;\n",
       "    }\n",
       "\n",
       "    .dataframe tbody tr th {\n",
       "        vertical-align: top;\n",
       "    }\n",
       "\n",
       "    .dataframe thead th {\n",
       "        text-align: right;\n",
       "    }\n",
       "</style>\n",
       "<table border=\"1\" class=\"dataframe\">\n",
       "  <thead>\n",
       "    <tr style=\"text-align: right;\">\n",
       "      <th></th>\n",
       "      <th>SPY</th>\n",
       "      <th>QQQ</th>\n",
       "      <th>prev_spy</th>\n",
       "    </tr>\n",
       "  </thead>\n",
       "  <tbody>\n",
       "    <tr>\n",
       "      <th>count</th>\n",
       "      <td>1.258000e+03</td>\n",
       "      <td>1.258000e+03</td>\n",
       "      <td>1.258000e+03</td>\n",
       "    </tr>\n",
       "    <tr>\n",
       "      <th>mean</th>\n",
       "      <td>9.127041e+07</td>\n",
       "      <td>3.577389e+07</td>\n",
       "      <td>9.127036e+07</td>\n",
       "    </tr>\n",
       "    <tr>\n",
       "      <th>std</th>\n",
       "      <td>4.977202e+07</td>\n",
       "      <td>2.115981e+07</td>\n",
       "      <td>4.977200e+07</td>\n",
       "    </tr>\n",
       "    <tr>\n",
       "      <th>min</th>\n",
       "      <td>2.027000e+07</td>\n",
       "      <td>7.079300e+06</td>\n",
       "      <td>2.027000e+07</td>\n",
       "    </tr>\n",
       "    <tr>\n",
       "      <th>25%</th>\n",
       "      <td>5.869342e+07</td>\n",
       "      <td>2.181092e+07</td>\n",
       "      <td>5.869342e+07</td>\n",
       "    </tr>\n",
       "    <tr>\n",
       "      <th>50%</th>\n",
       "      <td>7.740080e+07</td>\n",
       "      <td>2.984185e+07</td>\n",
       "      <td>7.740080e+07</td>\n",
       "    </tr>\n",
       "    <tr>\n",
       "      <th>75%</th>\n",
       "      <td>1.057130e+08</td>\n",
       "      <td>4.184002e+07</td>\n",
       "      <td>1.056646e+08</td>\n",
       "    </tr>\n",
       "    <tr>\n",
       "      <th>max</th>\n",
       "      <td>3.922207e+08</td>\n",
       "      <td>1.492471e+08</td>\n",
       "      <td>3.922207e+08</td>\n",
       "    </tr>\n",
       "  </tbody>\n",
       "</table>\n",
       "</div>"
      ],
      "text/plain": [
       "                SPY           QQQ      prev_spy\n",
       "count  1.258000e+03  1.258000e+03  1.258000e+03\n",
       "mean   9.127041e+07  3.577389e+07  9.127036e+07\n",
       "std    4.977202e+07  2.115981e+07  4.977200e+07\n",
       "min    2.027000e+07  7.079300e+06  2.027000e+07\n",
       "25%    5.869342e+07  2.181092e+07  5.869342e+07\n",
       "50%    7.740080e+07  2.984185e+07  7.740080e+07\n",
       "75%    1.057130e+08  4.184002e+07  1.056646e+08\n",
       "max    3.922207e+08  1.492471e+08  3.922207e+08"
      ]
     },
     "execution_count": 66,
     "metadata": {},
     "output_type": "execute_result"
    }
   ],
   "source": [
    "\n",
    "qqq_volume = volume_df[['SPY', 'QQQ']]\n",
    "qqq_volume['prev_spy'] = qqq_volume['SPY'].shift(1)\n",
    "qqq_volume.dropna(inplace=True)\n",
    "qqq_volume.describe()"
   ]
  },
  {
   "cell_type": "code",
   "execution_count": 51,
   "metadata": {},
   "outputs": [],
   "source": [
    "import matplotlib.pyplot as plt  \n",
    "import seaborn as sns\n",
    "from sklearn.model_selection import train_test_split \n",
    "from sklearn.linear_model import LinearRegression\n",
    "from sklearn import metrics\n",
    "%matplotlib inline"
   ]
  },
  {
   "cell_type": "code",
   "execution_count": 52,
   "metadata": {},
   "outputs": [
    {
     "data": {
      "image/png": "[encoded data removed]",
      "text/plain": [
       "<Figure size 432x288 with 1 Axes>"
      ]
     },
     "metadata": {
      "needs_background": "light"
     },
     "output_type": "display_data"
    }
   ],
   "source": [
    "qqq_volume.plot(x='prev_spy', y='QQQ', style='.')\n",
    "plt.title('previous spy volume to QQQ volume')  \n",
    "plt.xlabel('SPY Previous Day Volume')  \n",
    "plt.ylabel('QQQ Current Day Volume')  \n",
    "plt.show()"
   ]
  },
  {
   "cell_type": "code",
   "execution_count": 57,
   "metadata": {},
   "outputs": [],
   "source": [
    "X = qqq_volume['prev_spy'].values.reshape(-1,1)\n",
    "y = qqq_volume['QQQ'].values.reshape(-1,1)\n",
    "\n",
    "X_train, X_test, y_train, y_test = train_test_split(X, y, test_size=0.2, random_state=0)"
   ]
  },
  {
   "cell_type": "code",
   "execution_count": 58,
   "metadata": {},
   "outputs": [
    {
     "data": {
      "text/plain": [
       "LinearRegression(copy_X=True, fit_intercept=True, n_jobs=None,\n",
       "         normalize=False)"
      ]
     },
     "execution_count": 58,
     "metadata": {},
     "output_type": "execute_result"
    }
   ],
   "source": [
    "regressor = LinearRegression()  \n",
    "regressor.fit(X_train, y_train)"
   ]
  },
  {
   "cell_type": "code",
   "execution_count": 59,
   "metadata": {},
   "outputs": [
    {
     "name": "stdout",
     "output_type": "stream",
     "text": [
      "[11906285.94668199]\n",
      "[[0.2595083]]\n"
     ]
    }
   ],
   "source": [
    "print(regressor.intercept_)\n",
    "print(regressor.coef_)"
   ]
  },
  {
   "cell_type": "code",
   "execution_count": 63,
   "metadata": {},
   "outputs": [],
   "source": [
    "y_pred = regressor.predict(X_test)\n",
    "\n",
    "eval_data = pd.DataFrame({'Actual': y_test.flatten(), 'Predicted': y_pred.flatten()})"
   ]
  },
  {
   "cell_type": "code",
   "execution_count": 64,
   "metadata": {},
   "outputs": [
    {
     "data": {
      "image/png": "[encoded data removed]",
      "text/plain": [
       "<Figure size 432x288 with 1 Axes>"
      ]
     },
     "metadata": {
      "needs_background": "light"
     },
     "output_type": "display_data"
    }
   ],
   "source": [
    "plt.scatter(X_test, y_test,  color='gray')\n",
    "plt.plot(X_test, y_pred, color='red', linewidth=2)\n",
    "plt.show()"
   ]
  },
  {
   "cell_type": "code",
   "execution_count": 65,
   "metadata": {},
   "outputs": [
    {
     "name": "stdout",
     "output_type": "stream",
     "text": [
      "Mean Absolute Error: 12263831.93573648\n",
      "Mean Squared Error: 290173998748077.8\n",
      "Root Mean Squared Error: 17034494.378996924\n",
      "R-squared Error: 0.34226368513568917\n"
     ]
    }
   ],
   "source": [
    "print('Mean Absolute Error:', metrics.mean_absolute_error(y_test, y_pred))  \n",
    "print('Mean Squared Error:', metrics.mean_squared_error(y_test, y_pred))  \n",
    "print('Root Mean Squared Error:', np.sqrt(metrics.mean_squared_error(y_test, y_pred)))\n",
    "print('R-squared Error:', metrics.r2_score(y_test, y_pred))"
   ]
  },
  {
   "cell_type": "markdown",
   "metadata": {},
   "source": [
    "#### Results\n",
    "Looking at these results we can see the model does not do a very good job at explaing our data. Leveraging the previous day volume of the SPY does not yeild strong results for predicting tomorrows volume for the QQQ ETF. We have a very low (34%) R-squared and the MSE is very far from 0 indicating that this model is not very reliable. \n",
    "\n",
    "#### No lets try with volatility"
   ]
  },
  {
   "cell_type": "code",
   "execution_count": 67,
   "metadata": {},
   "outputs": [
    {
     "data": {
      "text/html": [
       "<div>\n",
       "<style scoped>\n",
       "    .dataframe tbody tr th:only-of-type {\n",
       "        vertical-align: middle;\n",
       "    }\n",
       "\n",
       "    .dataframe tbody tr th {\n",
       "        vertical-align: top;\n",
       "    }\n",
       "\n",
       "    .dataframe thead th {\n",
       "        text-align: right;\n",
       "    }\n",
       "</style>\n",
       "<table border=\"1\" class=\"dataframe\">\n",
       "  <thead>\n",
       "    <tr style=\"text-align: right;\">\n",
       "      <th></th>\n",
       "      <th>SPY</th>\n",
       "      <th>QQQ</th>\n",
       "      <th>prev_spy</th>\n",
       "    </tr>\n",
       "  </thead>\n",
       "  <tbody>\n",
       "    <tr>\n",
       "      <th>count</th>\n",
       "      <td>1258.000000</td>\n",
       "      <td>1258.000000</td>\n",
       "      <td>1258.000000</td>\n",
       "    </tr>\n",
       "    <tr>\n",
       "      <th>mean</th>\n",
       "      <td>0.010714</td>\n",
       "      <td>0.013487</td>\n",
       "      <td>0.010706</td>\n",
       "    </tr>\n",
       "    <tr>\n",
       "      <th>std</th>\n",
       "      <td>0.009793</td>\n",
       "      <td>0.010417</td>\n",
       "      <td>0.009787</td>\n",
       "    </tr>\n",
       "    <tr>\n",
       "      <th>min</th>\n",
       "      <td>0.001229</td>\n",
       "      <td>0.002455</td>\n",
       "      <td>0.001229</td>\n",
       "    </tr>\n",
       "    <tr>\n",
       "      <th>25%</th>\n",
       "      <td>0.005059</td>\n",
       "      <td>0.006898</td>\n",
       "      <td>0.005059</td>\n",
       "    </tr>\n",
       "    <tr>\n",
       "      <th>50%</th>\n",
       "      <td>0.007727</td>\n",
       "      <td>0.010209</td>\n",
       "      <td>0.007727</td>\n",
       "    </tr>\n",
       "    <tr>\n",
       "      <th>75%</th>\n",
       "      <td>0.012443</td>\n",
       "      <td>0.016298</td>\n",
       "      <td>0.012443</td>\n",
       "    </tr>\n",
       "    <tr>\n",
       "      <th>max</th>\n",
       "      <td>0.085252</td>\n",
       "      <td>0.091672</td>\n",
       "      <td>0.085252</td>\n",
       "    </tr>\n",
       "  </tbody>\n",
       "</table>\n",
       "</div>"
      ],
      "text/plain": [
       "               SPY          QQQ     prev_spy\n",
       "count  1258.000000  1258.000000  1258.000000\n",
       "mean      0.010714     0.013487     0.010706\n",
       "std       0.009793     0.010417     0.009787\n",
       "min       0.001229     0.002455     0.001229\n",
       "25%       0.005059     0.006898     0.005059\n",
       "50%       0.007727     0.010209     0.007727\n",
       "75%       0.012443     0.016298     0.012443\n",
       "max       0.085252     0.091672     0.085252"
      ]
     },
     "execution_count": 67,
     "metadata": {},
     "output_type": "execute_result"
    }
   ],
   "source": [
    "qqq_vol = vola_df[['SPY', 'QQQ']]\n",
    "qqq_vol['prev_spy'] = qqq_vol['SPY'].shift(1)\n",
    "qqq_vol.dropna(inplace=True)\n",
    "qqq_vol.describe()"
   ]
  },
  {
   "cell_type": "code",
   "execution_count": 70,
   "metadata": {},
   "outputs": [
    {
     "data": {
      "image/png": "[encoded data removed]",
      "text/plain": [
       "<Figure size 432x288 with 1 Axes>"
      ]
     },
     "metadata": {
      "needs_background": "light"
     },
     "output_type": "display_data"
    }
   ],
   "source": [
    "qqq_vol.plot(x='prev_spy', y='QQQ', style='.')\n",
    "plt.title('Previous SPY Volatility to QQQ Volatily')  \n",
    "plt.xlabel('SPY Previous Day Volatily')  \n",
    "plt.ylabel('QQQ Current Day Volatily')  \n",
    "plt.show()"
   ]
  },
  {
   "cell_type": "code",
   "execution_count": 72,
   "metadata": {},
   "outputs": [
    {
     "name": "stdout",
     "output_type": "stream",
     "text": [
      "[0.00499147]\n",
      "[[0.77379927]]\n"
     ]
    }
   ],
   "source": [
    "X = qqq_vol['prev_spy'].values.reshape(-1,1)\n",
    "y = qqq_vol['QQQ'].values.reshape(-1,1)\n",
    "\n",
    "X_train, X_test, y_train, y_test = train_test_split(X, y, test_size=0.2, random_state=0)\n",
    "regressor.fit(X_train, y_train)\n",
    "\n",
    "print(regressor.intercept_)\n",
    "print(regressor.coef_)\n",
    "\n",
    "y_pred = regressor.predict(X_test)\n",
    "\n",
    "eval_data = pd.DataFrame({'Actual': y_test.flatten(), 'Predicted': y_pred.flatten()})"
   ]
  },
  {
   "cell_type": "code",
   "execution_count": 73,
   "metadata": {},
   "outputs": [
    {
     "name": "stdout",
     "output_type": "stream",
     "text": [
      "Mean Absolute Error: 0.005130660163259229\n",
      "Mean Squared Error: 5.94580293952926e-05\n",
      "Root Mean Squared Error: 0.0077109032801152815\n",
      "R-squared Error: 0.4659389660836777\n"
     ]
    },
    {
     "data": {
      "image/png": "[encoded data removed]",
      "text/plain": [
       "<Figure size 432x288 with 1 Axes>"
      ]
     },
     "metadata": {
      "needs_background": "light"
     },
     "output_type": "display_data"
    }
   ],
   "source": [
    "print('Mean Absolute Error:', metrics.mean_absolute_error(y_test, y_pred))  \n",
    "print('Mean Squared Error:', metrics.mean_squared_error(y_test, y_pred))  \n",
    "print('Root Mean Squared Error:', np.sqrt(metrics.mean_squared_error(y_test, y_pred)))\n",
    "print('R-squared Error:', metrics.r2_score(y_test, y_pred))\n",
    "\n",
    "plt.scatter(X_test, y_test,  color='gray')\n",
    "plt.plot(X_test, y_pred, color='red', linewidth=2)\n",
    "plt.show()"
   ]
  },
  {
   "cell_type": "markdown",
   "metadata": {},
   "source": [
    "The results are slightly better than volume. We can see the R-squared Error is 46% which is better than the previous model but MSE is 5.9 which is fairly high given that the mean of all QQQ volatility is .01. This model definitely performs better but not by much. With the plot we can see the variation. "
   ]
  },
  {
   "cell_type": "markdown",
   "metadata": {},
   "source": [
    "#### Lets try a multiple regression and add in the previous day QQQ volatility and see if we can strengthen our prediction"
   ]
  },
  {
   "cell_type": "code",
   "execution_count": 75,
   "metadata": {},
   "outputs": [
    {
     "data": {
      "text/html": [
       "<div>\n",
       "<style scoped>\n",
       "    .dataframe tbody tr th:only-of-type {\n",
       "        vertical-align: middle;\n",
       "    }\n",
       "\n",
       "    .dataframe tbody tr th {\n",
       "        vertical-align: top;\n",
       "    }\n",
       "\n",
       "    .dataframe thead th {\n",
       "        text-align: right;\n",
       "    }\n",
       "</style>\n",
       "<table border=\"1\" class=\"dataframe\">\n",
       "  <thead>\n",
       "    <tr style=\"text-align: right;\">\n",
       "      <th></th>\n",
       "      <th>SPY</th>\n",
       "      <th>QQQ</th>\n",
       "      <th>prev_spy</th>\n",
       "      <th>prev_qqq</th>\n",
       "    </tr>\n",
       "  </thead>\n",
       "  <tbody>\n",
       "    <tr>\n",
       "      <th>count</th>\n",
       "      <td>1258.000000</td>\n",
       "      <td>1258.000000</td>\n",
       "      <td>1258.000000</td>\n",
       "      <td>1258.000000</td>\n",
       "    </tr>\n",
       "    <tr>\n",
       "      <th>mean</th>\n",
       "      <td>0.010714</td>\n",
       "      <td>0.013487</td>\n",
       "      <td>0.010706</td>\n",
       "      <td>0.013472</td>\n",
       "    </tr>\n",
       "    <tr>\n",
       "      <th>std</th>\n",
       "      <td>0.009793</td>\n",
       "      <td>0.010417</td>\n",
       "      <td>0.009787</td>\n",
       "      <td>0.010399</td>\n",
       "    </tr>\n",
       "    <tr>\n",
       "      <th>min</th>\n",
       "      <td>0.001229</td>\n",
       "      <td>0.002455</td>\n",
       "      <td>0.001229</td>\n",
       "      <td>0.002455</td>\n",
       "    </tr>\n",
       "    <tr>\n",
       "      <th>25%</th>\n",
       "      <td>0.005059</td>\n",
       "      <td>0.006898</td>\n",
       "      <td>0.005059</td>\n",
       "      <td>0.006898</td>\n",
       "    </tr>\n",
       "    <tr>\n",
       "      <th>50%</th>\n",
       "      <td>0.007727</td>\n",
       "      <td>0.010209</td>\n",
       "      <td>0.007727</td>\n",
       "      <td>0.010209</td>\n",
       "    </tr>\n",
       "    <tr>\n",
       "      <th>75%</th>\n",
       "      <td>0.012443</td>\n",
       "      <td>0.016298</td>\n",
       "      <td>0.012443</td>\n",
       "      <td>0.016298</td>\n",
       "    </tr>\n",
       "    <tr>\n",
       "      <th>max</th>\n",
       "      <td>0.085252</td>\n",
       "      <td>0.091672</td>\n",
       "      <td>0.085252</td>\n",
       "      <td>0.091672</td>\n",
       "    </tr>\n",
       "  </tbody>\n",
       "</table>\n",
       "</div>"
      ],
      "text/plain": [
       "               SPY          QQQ     prev_spy     prev_qqq\n",
       "count  1258.000000  1258.000000  1258.000000  1258.000000\n",
       "mean      0.010714     0.013487     0.010706     0.013472\n",
       "std       0.009793     0.010417     0.009787     0.010399\n",
       "min       0.001229     0.002455     0.001229     0.002455\n",
       "25%       0.005059     0.006898     0.005059     0.006898\n",
       "50%       0.007727     0.010209     0.007727     0.010209\n",
       "75%       0.012443     0.016298     0.012443     0.016298\n",
       "max       0.085252     0.091672     0.085252     0.091672"
      ]
     },
     "execution_count": 75,
     "metadata": {},
     "output_type": "execute_result"
    }
   ],
   "source": [
    "qqq_vol = vola_df[['SPY', 'QQQ']]\n",
    "qqq_vol['prev_spy'] = qqq_vol['SPY'].shift(1)\n",
    "qqq_vol['prev_qqq'] = qqq_vol['QQQ'].shift(1)\n",
    "qqq_vol.dropna(inplace=True)\n",
    "qqq_vol.describe()"
   ]
  },
  {
   "cell_type": "code",
   "execution_count": 77,
   "metadata": {},
   "outputs": [
    {
     "data": {
      "text/html": [
       "<div>\n",
       "<style scoped>\n",
       "    .dataframe tbody tr th:only-of-type {\n",
       "        vertical-align: middle;\n",
       "    }\n",
       "\n",
       "    .dataframe tbody tr th {\n",
       "        vertical-align: top;\n",
       "    }\n",
       "\n",
       "    .dataframe thead th {\n",
       "        text-align: right;\n",
       "    }\n",
       "</style>\n",
       "<table border=\"1\" class=\"dataframe\">\n",
       "  <thead>\n",
       "    <tr style=\"text-align: right;\">\n",
       "      <th></th>\n",
       "      <th>Coefficient</th>\n",
       "    </tr>\n",
       "  </thead>\n",
       "  <tbody>\n",
       "    <tr>\n",
       "      <th>prev_spy</th>\n",
       "      <td>0.494303</td>\n",
       "    </tr>\n",
       "    <tr>\n",
       "      <th>prev_qqq</th>\n",
       "      <td>0.284303</td>\n",
       "    </tr>\n",
       "  </tbody>\n",
       "</table>\n",
       "</div>"
      ],
      "text/plain": [
       "          Coefficient\n",
       "prev_spy     0.494303\n",
       "prev_qqq     0.284303"
      ]
     },
     "execution_count": 77,
     "metadata": {},
     "output_type": "execute_result"
    }
   ],
   "source": [
    "X = qqq_vol[['prev_spy', 'prev_qqq']].values\n",
    "y = qqq_vol['QQQ'].values\n",
    "\n",
    "X_train, X_test, y_train, y_test = train_test_split(X, y, test_size=0.2, random_state=0)\n",
    "regressor.fit(X_train, y_train)\n",
    "\n",
    "coeff_df = pd.DataFrame(regressor.coef_, ['prev_spy', 'prev_qqq'], columns=['Coefficient'])  \n",
    "coeff_df\n",
    "\n"
   ]
  },
  {
   "cell_type": "code",
   "execution_count": 83,
   "metadata": {},
   "outputs": [
    {
     "data": {
      "text/html": [
       "<div>\n",
       "<style scoped>\n",
       "    .dataframe tbody tr th:only-of-type {\n",
       "        vertical-align: middle;\n",
       "    }\n",
       "\n",
       "    .dataframe tbody tr th {\n",
       "        vertical-align: top;\n",
       "    }\n",
       "\n",
       "    .dataframe thead th {\n",
       "        text-align: right;\n",
       "    }\n",
       "</style>\n",
       "<table border=\"1\" class=\"dataframe\">\n",
       "  <thead>\n",
       "    <tr style=\"text-align: right;\">\n",
       "      <th></th>\n",
       "      <th>Actual</th>\n",
       "      <th>Predicted</th>\n",
       "    </tr>\n",
       "  </thead>\n",
       "  <tbody>\n",
       "    <tr>\n",
       "      <th>0</th>\n",
       "      <td>0.025234</td>\n",
       "      <td>0.023518</td>\n",
       "    </tr>\n",
       "    <tr>\n",
       "      <th>1</th>\n",
       "      <td>0.006187</td>\n",
       "      <td>0.008966</td>\n",
       "    </tr>\n",
       "    <tr>\n",
       "      <th>2</th>\n",
       "      <td>0.023537</td>\n",
       "      <td>0.022622</td>\n",
       "    </tr>\n",
       "    <tr>\n",
       "      <th>3</th>\n",
       "      <td>0.006733</td>\n",
       "      <td>0.010882</td>\n",
       "    </tr>\n",
       "    <tr>\n",
       "      <th>4</th>\n",
       "      <td>0.013522</td>\n",
       "      <td>0.015545</td>\n",
       "    </tr>\n",
       "  </tbody>\n",
       "</table>\n",
       "</div>"
      ],
      "text/plain": [
       "     Actual  Predicted\n",
       "0  0.025234   0.023518\n",
       "1  0.006187   0.008966\n",
       "2  0.023537   0.022622\n",
       "3  0.006733   0.010882\n",
       "4  0.013522   0.015545"
      ]
     },
     "execution_count": 83,
     "metadata": {},
     "output_type": "execute_result"
    }
   ],
   "source": [
    "y_pred = regressor.predict(X_test)\n",
    "\n",
    "eval_data = pd.DataFrame({'Actual': y_test.flatten(), 'Predicted': y_pred.flatten()})\n",
    "eval_data.head()"
   ]
  },
  {
   "cell_type": "code",
   "execution_count": 81,
   "metadata": {},
   "outputs": [
    {
     "data": {
      "image/png": "[encoded data removed]",
      "text/plain": [
       "<Figure size 720x576 with 1 Axes>"
      ]
     },
     "metadata": {
      "needs_background": "light"
     },
     "output_type": "display_data"
    }
   ],
   "source": [
    "plot_data = eval_data.head(30)\n",
    "plot_data.plot(kind='bar',figsize=(10,8))\n",
    "plt.grid(which='major', linestyle='-', linewidth='0.5', color='green')\n",
    "plt.grid(which='minor', linestyle=':', linewidth='0.5', color='black')\n",
    "plt.show()"
   ]
  },
  {
   "cell_type": "code",
   "execution_count": 82,
   "metadata": {},
   "outputs": [
    {
     "name": "stdout",
     "output_type": "stream",
     "text": [
      "Mean Absolute Error: 0.004995659330600912\n",
      "Mean Squared Error: 5.738828955447182e-05\n",
      "Root Mean Squared Error: 0.007575505894293253\n",
      "R-squared Error: 0.4845296831082494\n"
     ]
    }
   ],
   "source": [
    "print('Mean Absolute Error:', metrics.mean_absolute_error(y_test, y_pred))  \n",
    "print('Mean Squared Error:', metrics.mean_squared_error(y_test, y_pred))  \n",
    "print('Root Mean Squared Error:', np.sqrt(metrics.mean_squared_error(y_test, y_pred)))\n",
    "print('R-squared Error:', metrics.r2_score(y_test, y_pred))"
   ]
  },
  {
   "cell_type": "markdown",
   "metadata": {},
   "source": [
    "- The Root Mean Squared Error is .007 which is about half of the mean .013\n",
    "- The algorithm was not accurate and can be confirmed unreliable\n",
    "\n",
    "The model did increase the R-squared Error by a slight amount from 46% to 48%and the MSE did decline by .02 so this is a stronger model than the previous single regression model but not enough to consider reliable"
   ]
  },
  {
   "cell_type": "markdown",
   "metadata": {},
   "source": [
    "### Going to turn attention on to stocks Tesla in particular vs  Amazon"
   ]
  },
  {
   "cell_type": "code",
   "execution_count": 101,
   "metadata": {},
   "outputs": [],
   "source": [
    "tsla = {'TSLA': web.get_data_yahoo('TSLA')}\n",
    "tsla_df = tsla['TSLA']\n",
    "\n",
    "amzn = {'AMZN': web.get_data_yahoo('AMZN')}\n",
    "amzn_df = amzn['AMZN']\n",
    "\n",
    "tsla_df['Volatility'] = volatility(tsla_df)\n",
    "amzn_df['Volatility'] = volatility(amzn_df)\n",
    "\n",
    "tsla_volume_delta, tsla_vola_delta = _delta(tsla_df)\n",
    "tsla_df['Volume_Delta'] = tsla_volume_delta\n",
    "tsla_df['Volatility_Delta'] = tsla_vola_delta\n",
    "\n",
    "amzn_volume_delta, amzn_vola_delta = _delta(amzn_df)\n",
    "amzn_df['Volume_Delta'] = amzn_volume_delta\n",
    "amzn_df['Volatility_Delta'] = amzn_vola_delta"
   ]
  },
  {
   "cell_type": "code",
   "execution_count": null,
   "metadata": {},
   "outputs": [],
   "source": []
  },
  {
   "cell_type": "code",
   "execution_count": null,
   "metadata": {},
   "outputs": [],
   "source": []
  }
 ],
 "metadata": {
  "kernelspec": {
   "display_name": "Python 3",
   "language": "python",
   "name": "python3"
  },
  "language_info": {
   "codemirror_mode": {
    "name": "ipython",
    "version": 3
   },
   "file_extension": ".py",
   "mimetype": "text/x-python",
   "name": "python",
   "nbconvert_exporter": "python",
   "pygments_lexer": "ipython3",
   "version": "3.6.6"
  }
 },
 "nbformat": 4,
 "nbformat_minor": 2
}
