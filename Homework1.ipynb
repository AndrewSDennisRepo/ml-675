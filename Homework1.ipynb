{
 "cells": [
  {
   "cell_type": "code",
   "execution_count": 1,
   "metadata": {},
   "outputs": [],
   "source": [
    "import pandas as pd\n",
    "import pandas_datareader.data as web\n",
    "import numpy as np\n",
    "\n",
    "all_data = {ticker: web.get_data_yahoo(ticker) for ticker in ['SPY', 'QQQ', 'XLF']}\n",
    "\n",
    "spy_df = all_data['SPY']\n",
    "qqq_df = all_data['QQQ']\n",
    "xlf_df = all_data['XLF']\n"
   ]
  },
  {
   "cell_type": "code",
   "execution_count": 2,
   "metadata": {
    "scrolled": true
   },
   "outputs": [],
   "source": [
    "def volatility(df):\n",
    "    return (df['High']- df['Low']) / df['Close']\n",
    "\n",
    "def _delta(df):\n",
    "    volume_delta = df['Volume'] - df['Volume'].shift(1)\n",
    "    volat_delta = df['Volatility'] - df['Volatility'].shift(1)\n",
    "    return volume_delta, volat_delta\n",
    "\n",
    "\n",
    "\n",
    "spy_df['Volatility'] = volatility(spy_df)\n",
    "qqq_df['Volatility'] = volatility(qqq_df)\n",
    "xlf_df['Volatility'] = volatility(xlf_df)\n",
    "\n",
    "\n",
    "spy_volume_delta, spy_vola_delta = _delta(spy_df)\n",
    "spy_df['Volume_Delta'] = spy_volume_delta\n",
    "spy_df['Volatility_Delta'] = spy_vola_delta\n",
    "\n",
    "\n",
    "qqq_volume_delta, qqq_vola_delta = _delta(qqq_df)\n",
    "qqq_df['Volume_Delta'] = qqq_volume_delta\n",
    "qqq_df['Volatility_Delta'] = qqq_vola_delta\n",
    "\n",
    "\n",
    "xlf_volume_delta, xlf_vola_delta = _delta(xlf_df)\n",
    "xlf_df['Volume_Delta'] = xlf_volume_delta\n",
    "xlf_df['Volatility_Delta'] = xlf_vola_delta"
   ]
  },
  {
   "cell_type": "code",
   "execution_count": 3,
   "metadata": {},
   "outputs": [],
   "source": [
    "vola_df = pd.DataFrame({'SPY': spy_df['Volatility'], 'QQQ': qqq_df['Volatility'], 'XLF': xlf_df['Volatility']})"
   ]
  },
  {
   "cell_type": "code",
   "execution_count": 4,
   "metadata": {},
   "outputs": [
    {
     "data": {
      "text/html": [
       "<div>\n",
       "<style scoped>\n",
       "    .dataframe tbody tr th:only-of-type {\n",
       "        vertical-align: middle;\n",
       "    }\n",
       "\n",
       "    .dataframe tbody tr th {\n",
       "        vertical-align: top;\n",
       "    }\n",
       "\n",
       "    .dataframe thead th {\n",
       "        text-align: right;\n",
       "    }\n",
       "</style>\n",
       "<table border=\"1\" class=\"dataframe\">\n",
       "  <thead>\n",
       "    <tr style=\"text-align: right;\">\n",
       "      <th></th>\n",
       "      <th>SPY</th>\n",
       "      <th>QQQ</th>\n",
       "      <th>XLF</th>\n",
       "    </tr>\n",
       "  </thead>\n",
       "  <tbody>\n",
       "    <tr>\n",
       "      <th>SPY</th>\n",
       "      <td>1.000000</td>\n",
       "      <td>0.925684</td>\n",
       "      <td>0.892033</td>\n",
       "    </tr>\n",
       "    <tr>\n",
       "      <th>QQQ</th>\n",
       "      <td>0.925684</td>\n",
       "      <td>1.000000</td>\n",
       "      <td>0.826748</td>\n",
       "    </tr>\n",
       "    <tr>\n",
       "      <th>XLF</th>\n",
       "      <td>0.892033</td>\n",
       "      <td>0.826748</td>\n",
       "      <td>1.000000</td>\n",
       "    </tr>\n",
       "  </tbody>\n",
       "</table>\n",
       "</div>"
      ],
      "text/plain": [
       "          SPY       QQQ       XLF\n",
       "SPY  1.000000  0.925684  0.892033\n",
       "QQQ  0.925684  1.000000  0.826748\n",
       "XLF  0.892033  0.826748  1.000000"
      ]
     },
     "execution_count": 4,
     "metadata": {},
     "output_type": "execute_result"
    }
   ],
   "source": [
    "vola_df.corr()"
   ]
  },
  {
   "cell_type": "markdown",
   "metadata": {},
   "source": [
    "From the correlation we can see that QQQ and XLF have a fairly strong correlation with SPY and less so between each other. QQQ does have a slightly stronger correlation but only slight."
   ]
  },
  {
   "cell_type": "code",
   "execution_count": 5,
   "metadata": {},
   "outputs": [
    {
     "data": {
      "text/plain": [
       "<AxesSubplot:xlabel='SPY'>"
      ]
     },
     "execution_count": 5,
     "metadata": {},
     "output_type": "execute_result"
    },
    {
     "data": {
      "image/png": "[encoded data removed]",
      "text/plain": [
       "<Figure size 432x288 with 1 Axes>"
      ]
     },
     "metadata": {
      "needs_background": "light"
     },
     "output_type": "display_data"
    }
   ],
   "source": [
    "vola_df.plot(x='SPY', y='QQQ', style='.')"
   ]
  },
  {
   "cell_type": "code",
   "execution_count": 6,
   "metadata": {},
   "outputs": [
    {
     "data": {
      "text/html": [
       "<div>\n",
       "<style scoped>\n",
       "    .dataframe tbody tr th:only-of-type {\n",
       "        vertical-align: middle;\n",
       "    }\n",
       "\n",
       "    .dataframe tbody tr th {\n",
       "        vertical-align: top;\n",
       "    }\n",
       "\n",
       "    .dataframe thead th {\n",
       "        text-align: right;\n",
       "    }\n",
       "</style>\n",
       "<table border=\"1\" class=\"dataframe\">\n",
       "  <thead>\n",
       "    <tr style=\"text-align: right;\">\n",
       "      <th></th>\n",
       "      <th>SPY</th>\n",
       "      <th>QQQ</th>\n",
       "      <th>XLF</th>\n",
       "    </tr>\n",
       "  </thead>\n",
       "  <tbody>\n",
       "    <tr>\n",
       "      <th>SPY</th>\n",
       "      <td>1.000000</td>\n",
       "      <td>0.771802</td>\n",
       "      <td>0.694318</td>\n",
       "    </tr>\n",
       "    <tr>\n",
       "      <th>QQQ</th>\n",
       "      <td>0.771802</td>\n",
       "      <td>1.000000</td>\n",
       "      <td>0.611014</td>\n",
       "    </tr>\n",
       "    <tr>\n",
       "      <th>XLF</th>\n",
       "      <td>0.694318</td>\n",
       "      <td>0.611014</td>\n",
       "      <td>1.000000</td>\n",
       "    </tr>\n",
       "  </tbody>\n",
       "</table>\n",
       "</div>"
      ],
      "text/plain": [
       "          SPY       QQQ       XLF\n",
       "SPY  1.000000  0.771802  0.694318\n",
       "QQQ  0.771802  1.000000  0.611014\n",
       "XLF  0.694318  0.611014  1.000000"
      ]
     },
     "execution_count": 6,
     "metadata": {},
     "output_type": "execute_result"
    }
   ],
   "source": [
    "volume_df = pd.DataFrame({'SPY': spy_df['Volume'], 'QQQ': qqq_df['Volume'], 'XLF': xlf_df['Volume']})\n",
    "volume_df.corr()"
   ]
  },
  {
   "cell_type": "markdown",
   "metadata": {},
   "source": [
    "We can see that volume has significantly less correlation than volatility. So we know that volume are not very related but we now do know that when one ETF is volatile others are typically volatile as well."
   ]
  },
  {
   "cell_type": "markdown",
   "metadata": {},
   "source": [
    "### Delta Comparison"
   ]
  },
  {
   "cell_type": "code",
   "execution_count": 7,
   "metadata": {},
   "outputs": [],
   "source": [
    "vola_delta_df = pd.DataFrame({'SPY': spy_df['Volatility_Delta'], 'QQQ': qqq_df['Volatility_Delta'], 'XLF': xlf_df['Volatility_Delta']})"
   ]
  },
  {
   "cell_type": "code",
   "execution_count": 8,
   "metadata": {},
   "outputs": [
    {
     "data": {
      "text/html": [
       "<div>\n",
       "<style scoped>\n",
       "    .dataframe tbody tr th:only-of-type {\n",
       "        vertical-align: middle;\n",
       "    }\n",
       "\n",
       "    .dataframe tbody tr th {\n",
       "        vertical-align: top;\n",
       "    }\n",
       "\n",
       "    .dataframe thead th {\n",
       "        text-align: right;\n",
       "    }\n",
       "</style>\n",
       "<table border=\"1\" class=\"dataframe\">\n",
       "  <thead>\n",
       "    <tr style=\"text-align: right;\">\n",
       "      <th></th>\n",
       "      <th>SPY</th>\n",
       "      <th>QQQ</th>\n",
       "      <th>XLF</th>\n",
       "    </tr>\n",
       "  </thead>\n",
       "  <tbody>\n",
       "    <tr>\n",
       "      <th>SPY</th>\n",
       "      <td>1.000000</td>\n",
       "      <td>0.777166</td>\n",
       "      <td>0.616003</td>\n",
       "    </tr>\n",
       "    <tr>\n",
       "      <th>QQQ</th>\n",
       "      <td>0.777166</td>\n",
       "      <td>1.000000</td>\n",
       "      <td>0.520054</td>\n",
       "    </tr>\n",
       "    <tr>\n",
       "      <th>XLF</th>\n",
       "      <td>0.616003</td>\n",
       "      <td>0.520054</td>\n",
       "      <td>1.000000</td>\n",
       "    </tr>\n",
       "  </tbody>\n",
       "</table>\n",
       "</div>"
      ],
      "text/plain": [
       "          SPY       QQQ       XLF\n",
       "SPY  1.000000  0.777166  0.616003\n",
       "QQQ  0.777166  1.000000  0.520054\n",
       "XLF  0.616003  0.520054  1.000000"
      ]
     },
     "execution_count": 8,
     "metadata": {},
     "output_type": "execute_result"
    }
   ],
   "source": [
    "vola_delta_df.corr()"
   ]
  },
  {
   "cell_type": "code",
   "execution_count": 9,
   "metadata": {},
   "outputs": [
    {
     "data": {
      "text/html": [
       "<div>\n",
       "<style scoped>\n",
       "    .dataframe tbody tr th:only-of-type {\n",
       "        vertical-align: middle;\n",
       "    }\n",
       "\n",
       "    .dataframe tbody tr th {\n",
       "        vertical-align: top;\n",
       "    }\n",
       "\n",
       "    .dataframe thead th {\n",
       "        text-align: right;\n",
       "    }\n",
       "</style>\n",
       "<table border=\"1\" class=\"dataframe\">\n",
       "  <thead>\n",
       "    <tr style=\"text-align: right;\">\n",
       "      <th></th>\n",
       "      <th>SPY</th>\n",
       "      <th>QQQ</th>\n",
       "      <th>XLF</th>\n",
       "    </tr>\n",
       "  </thead>\n",
       "  <tbody>\n",
       "    <tr>\n",
       "      <th>SPY</th>\n",
       "      <td>1.000000</td>\n",
       "      <td>0.740636</td>\n",
       "      <td>0.612764</td>\n",
       "    </tr>\n",
       "    <tr>\n",
       "      <th>QQQ</th>\n",
       "      <td>0.740636</td>\n",
       "      <td>1.000000</td>\n",
       "      <td>0.519069</td>\n",
       "    </tr>\n",
       "    <tr>\n",
       "      <th>XLF</th>\n",
       "      <td>0.612764</td>\n",
       "      <td>0.519069</td>\n",
       "      <td>1.000000</td>\n",
       "    </tr>\n",
       "  </tbody>\n",
       "</table>\n",
       "</div>"
      ],
      "text/plain": [
       "          SPY       QQQ       XLF\n",
       "SPY  1.000000  0.740636  0.612764\n",
       "QQQ  0.740636  1.000000  0.519069\n",
       "XLF  0.612764  0.519069  1.000000"
      ]
     },
     "execution_count": 9,
     "metadata": {},
     "output_type": "execute_result"
    }
   ],
   "source": [
    "volume_delta_df = pd.DataFrame({'SPY': spy_df['Volume_Delta'], 'QQQ': qqq_df['Volume_Delta'], 'XLF': xlf_df['Volume_Delta']})\n",
    "volume_delta_df.corr()"
   ]
  },
  {
   "cell_type": "markdown",
   "metadata": {},
   "source": [
    "In the case of Delta volume vs volatility the correlations are more closely related."
   ]
  },
  {
   "cell_type": "markdown",
   "metadata": {},
   "source": [
    "#### Let us see if previous day volume / volatitility of the SPY can help us predict the volume / volatitity of another ETF such as QQQ"
   ]
  },
  {
   "cell_type": "code",
   "execution_count": 10,
   "metadata": {},
   "outputs": [
    {
     "data": {
      "text/html": [
       "<div>\n",
       "<style scoped>\n",
       "    .dataframe tbody tr th:only-of-type {\n",
       "        vertical-align: middle;\n",
       "    }\n",
       "\n",
       "    .dataframe tbody tr th {\n",
       "        vertical-align: top;\n",
       "    }\n",
       "\n",
       "    .dataframe thead th {\n",
       "        text-align: right;\n",
       "    }\n",
       "</style>\n",
       "<table border=\"1\" class=\"dataframe\">\n",
       "  <thead>\n",
       "    <tr style=\"text-align: right;\">\n",
       "      <th></th>\n",
       "      <th>SPY</th>\n",
       "      <th>QQQ</th>\n",
       "      <th>prev_spy</th>\n",
       "    </tr>\n",
       "  </thead>\n",
       "  <tbody>\n",
       "    <tr>\n",
       "      <th>count</th>\n",
       "      <td>1.257000e+03</td>\n",
       "      <td>1.257000e+03</td>\n",
       "      <td>1.257000e+03</td>\n",
       "    </tr>\n",
       "    <tr>\n",
       "      <th>mean</th>\n",
       "      <td>9.114749e+07</td>\n",
       "      <td>3.579168e+07</td>\n",
       "      <td>9.122408e+07</td>\n",
       "    </tr>\n",
       "    <tr>\n",
       "      <th>std</th>\n",
       "      <td>4.972076e+07</td>\n",
       "      <td>2.116010e+07</td>\n",
       "      <td>4.975166e+07</td>\n",
       "    </tr>\n",
       "    <tr>\n",
       "      <th>min</th>\n",
       "      <td>2.027000e+07</td>\n",
       "      <td>7.079300e+06</td>\n",
       "      <td>2.027000e+07</td>\n",
       "    </tr>\n",
       "    <tr>\n",
       "      <th>25%</th>\n",
       "      <td>5.868260e+07</td>\n",
       "      <td>2.181550e+07</td>\n",
       "      <td>5.868260e+07</td>\n",
       "    </tr>\n",
       "    <tr>\n",
       "      <th>50%</th>\n",
       "      <td>7.723190e+07</td>\n",
       "      <td>2.986550e+07</td>\n",
       "      <td>7.732940e+07</td>\n",
       "    </tr>\n",
       "    <tr>\n",
       "      <th>75%</th>\n",
       "      <td>1.054429e+08</td>\n",
       "      <td>4.184990e+07</td>\n",
       "      <td>1.054797e+08</td>\n",
       "    </tr>\n",
       "    <tr>\n",
       "      <th>max</th>\n",
       "      <td>3.922207e+08</td>\n",
       "      <td>1.492471e+08</td>\n",
       "      <td>3.922207e+08</td>\n",
       "    </tr>\n",
       "  </tbody>\n",
       "</table>\n",
       "</div>"
      ],
      "text/plain": [
       "                SPY           QQQ      prev_spy\n",
       "count  1.257000e+03  1.257000e+03  1.257000e+03\n",
       "mean   9.114749e+07  3.579168e+07  9.122408e+07\n",
       "std    4.972076e+07  2.116010e+07  4.975166e+07\n",
       "min    2.027000e+07  7.079300e+06  2.027000e+07\n",
       "25%    5.868260e+07  2.181550e+07  5.868260e+07\n",
       "50%    7.723190e+07  2.986550e+07  7.732940e+07\n",
       "75%    1.054429e+08  4.184990e+07  1.054797e+08\n",
       "max    3.922207e+08  1.492471e+08  3.922207e+08"
      ]
     },
     "execution_count": 10,
     "metadata": {},
     "output_type": "execute_result"
    }
   ],
   "source": [
    "\n",
    "qqq_volume = volume_df[['SPY', 'QQQ']]\n",
    "qqq_volume['prev_spy'] = qqq_volume['SPY'].shift(1)\n",
    "qqq_volume.dropna(inplace=True)\n",
    "qqq_volume.describe()"
   ]
  },
  {
   "cell_type": "code",
   "execution_count": 11,
   "metadata": {},
   "outputs": [],
   "source": [
    "import matplotlib.pyplot as plt  \n",
    "import seaborn as sns\n",
    "from sklearn.model_selection import train_test_split \n",
    "from sklearn.linear_model import LinearRegression\n",
    "from sklearn import metrics\n",
    "%matplotlib inline"
   ]
  },
  {
   "cell_type": "code",
   "execution_count": 12,
   "metadata": {},
   "outputs": [
    {
     "data": {
      "image/png": "[encoded data removed]",
      "text/plain": [
       "<Figure size 432x288 with 1 Axes>"
      ]
     },
     "metadata": {
      "needs_background": "light"
     },
     "output_type": "display_data"
    }
   ],
   "source": [
    "qqq_volume.plot(x='prev_spy', y='QQQ', style='.')\n",
    "plt.title('previous spy volume to QQQ volume')  \n",
    "plt.xlabel('SPY Previous Day Volume')  \n",
    "plt.ylabel('QQQ Current Day Volume')  \n",
    "plt.show()"
   ]
  },
  {
   "cell_type": "code",
   "execution_count": 13,
   "metadata": {},
   "outputs": [],
   "source": [
    "X = qqq_volume['prev_spy'].values.reshape(-1,1)\n",
    "y = qqq_volume['QQQ'].values.reshape(-1,1)\n",
    "\n",
    "X_train, X_test, y_train, y_test = train_test_split(X, y, test_size=0.2, random_state=0)"
   ]
  },
  {
   "cell_type": "code",
   "execution_count": 14,
   "metadata": {},
   "outputs": [
    {
     "data": {
      "text/plain": [
       "LinearRegression()"
      ]
     },
     "execution_count": 14,
     "metadata": {},
     "output_type": "execute_result"
    }
   ],
   "source": [
    "regressor = LinearRegression()  \n",
    "regressor.fit(X_train, y_train)"
   ]
  },
  {
   "cell_type": "code",
   "execution_count": 15,
   "metadata": {},
   "outputs": [
    {
     "name": "stdout",
     "output_type": "stream",
     "text": [
      "[12114260.48852874]\n",
      "[[0.25791505]]\n"
     ]
    }
   ],
   "source": [
    "print(regressor.intercept_)\n",
    "print(regressor.coef_)"
   ]
  },
  {
   "cell_type": "code",
   "execution_count": 16,
   "metadata": {},
   "outputs": [],
   "source": [
    "y_pred = regressor.predict(X_test)\n",
    "\n",
    "eval_data = pd.DataFrame({'Actual': y_test.flatten(), 'Predicted': y_pred.flatten()})"
   ]
  },
  {
   "cell_type": "code",
   "execution_count": 17,
   "metadata": {},
   "outputs": [
    {
     "data": {
      "image/png": "[encoded data removed]",
      "text/plain": [
       "<Figure size 432x288 with 1 Axes>"
      ]
     },
     "metadata": {
      "needs_background": "light"
     },
     "output_type": "display_data"
    }
   ],
   "source": [
    "plt.scatter(X_test, y_test,  color='gray')\n",
    "plt.plot(X_test, y_pred, color='red', linewidth=2)\n",
    "plt.show()"
   ]
  },
  {
   "cell_type": "code",
   "execution_count": 18,
   "metadata": {},
   "outputs": [
    {
     "name": "stdout",
     "output_type": "stream",
     "text": [
      "Mean Absolute Error: 12565239.341337204\n",
      "Mean Squared Error: 298700847562110.75\n",
      "Root Mean Squared Error: 17282964.084962703\n",
      "R-squared Error: 0.2736159078730319\n"
     ]
    }
   ],
   "source": [
    "print('Mean Absolute Error:', metrics.mean_absolute_error(y_test, y_pred))  \n",
    "print('Mean Squared Error:', metrics.mean_squared_error(y_test, y_pred))  \n",
    "print('Root Mean Squared Error:', np.sqrt(metrics.mean_squared_error(y_test, y_pred)))\n",
    "print('R-squared Error:', metrics.r2_score(y_test, y_pred))"
   ]
  },
  {
   "cell_type": "markdown",
   "metadata": {},
   "source": [
    "#### Results\n",
    "Looking at these results we can see the model does not do a very good job at explaing our data. Leveraging the previous day volume of the SPY does not yeild strong results for predicting tomorrows volume for the QQQ ETF. We have a very low (34%) R-squared and the MSE is very far from 0 indicating that this model is not very reliable. \n",
    "\n",
    "#### No lets try with volatility"
   ]
  },
  {
   "cell_type": "code",
   "execution_count": 19,
   "metadata": {},
   "outputs": [
    {
     "data": {
      "text/html": [
       "<div>\n",
       "<style scoped>\n",
       "    .dataframe tbody tr th:only-of-type {\n",
       "        vertical-align: middle;\n",
       "    }\n",
       "\n",
       "    .dataframe tbody tr th {\n",
       "        vertical-align: top;\n",
       "    }\n",
       "\n",
       "    .dataframe thead th {\n",
       "        text-align: right;\n",
       "    }\n",
       "</style>\n",
       "<table border=\"1\" class=\"dataframe\">\n",
       "  <thead>\n",
       "    <tr style=\"text-align: right;\">\n",
       "      <th></th>\n",
       "      <th>SPY</th>\n",
       "      <th>QQQ</th>\n",
       "      <th>prev_spy</th>\n",
       "    </tr>\n",
       "  </thead>\n",
       "  <tbody>\n",
       "    <tr>\n",
       "      <th>count</th>\n",
       "      <td>1257.000000</td>\n",
       "      <td>1257.000000</td>\n",
       "      <td>1257.000000</td>\n",
       "    </tr>\n",
       "    <tr>\n",
       "      <th>mean</th>\n",
       "      <td>0.010721</td>\n",
       "      <td>0.013507</td>\n",
       "      <td>0.010721</td>\n",
       "    </tr>\n",
       "    <tr>\n",
       "      <th>std</th>\n",
       "      <td>0.009798</td>\n",
       "      <td>0.010432</td>\n",
       "      <td>0.009798</td>\n",
       "    </tr>\n",
       "    <tr>\n",
       "      <th>min</th>\n",
       "      <td>0.001229</td>\n",
       "      <td>0.002455</td>\n",
       "      <td>0.001229</td>\n",
       "    </tr>\n",
       "    <tr>\n",
       "      <th>25%</th>\n",
       "      <td>0.005056</td>\n",
       "      <td>0.006897</td>\n",
       "      <td>0.005056</td>\n",
       "    </tr>\n",
       "    <tr>\n",
       "      <th>50%</th>\n",
       "      <td>0.007720</td>\n",
       "      <td>0.010217</td>\n",
       "      <td>0.007720</td>\n",
       "    </tr>\n",
       "    <tr>\n",
       "      <th>75%</th>\n",
       "      <td>0.012472</td>\n",
       "      <td>0.016341</td>\n",
       "      <td>0.012472</td>\n",
       "    </tr>\n",
       "    <tr>\n",
       "      <th>max</th>\n",
       "      <td>0.085252</td>\n",
       "      <td>0.091672</td>\n",
       "      <td>0.085252</td>\n",
       "    </tr>\n",
       "  </tbody>\n",
       "</table>\n",
       "</div>"
      ],
      "text/plain": [
       "               SPY          QQQ     prev_spy\n",
       "count  1257.000000  1257.000000  1257.000000\n",
       "mean      0.010721     0.013507     0.010721\n",
       "std       0.009798     0.010432     0.009798\n",
       "min       0.001229     0.002455     0.001229\n",
       "25%       0.005056     0.006897     0.005056\n",
       "50%       0.007720     0.010217     0.007720\n",
       "75%       0.012472     0.016341     0.012472\n",
       "max       0.085252     0.091672     0.085252"
      ]
     },
     "execution_count": 19,
     "metadata": {},
     "output_type": "execute_result"
    }
   ],
   "source": [
    "qqq_vol = vola_df[['SPY', 'QQQ']]\n",
    "qqq_vol['prev_spy'] = qqq_vol['SPY'].shift(1)\n",
    "qqq_vol.dropna(inplace=True)\n",
    "qqq_vol.describe()"
   ]
  },
  {
   "cell_type": "code",
   "execution_count": 20,
   "metadata": {},
   "outputs": [
    {
     "data": {
      "image/png": "[encoded data removed]",
      "text/plain": [
       "<Figure size 432x288 with 1 Axes>"
      ]
     },
     "metadata": {
      "needs_background": "light"
     },
     "output_type": "display_data"
    }
   ],
   "source": [
    "qqq_vol.plot(x='prev_spy', y='QQQ', style='.')\n",
    "plt.title('Previous SPY Volatility to QQQ Volatily')  \n",
    "plt.xlabel('SPY Previous Day Volatily')  \n",
    "plt.ylabel('QQQ Current Day Volatily')  \n",
    "plt.show()"
   ]
  },
  {
   "cell_type": "code",
   "execution_count": 21,
   "metadata": {},
   "outputs": [
    {
     "name": "stdout",
     "output_type": "stream",
     "text": [
      "[0.00496124]\n",
      "[[0.79126952]]\n"
     ]
    }
   ],
   "source": [
    "X = qqq_vol['prev_spy'].values.reshape(-1,1)\n",
    "y = qqq_vol['QQQ'].values.reshape(-1,1)\n",
    "\n",
    "X_train, X_test, y_train, y_test = train_test_split(X, y, test_size=0.2, random_state=0)\n",
    "regressor.fit(X_train, y_train)\n",
    "\n",
    "print(regressor.intercept_)\n",
    "print(regressor.coef_)\n",
    "\n",
    "y_pred = regressor.predict(X_test)\n",
    "\n",
    "eval_data = pd.DataFrame({'Actual': y_test.flatten(), 'Predicted': y_pred.flatten()})"
   ]
  },
  {
   "cell_type": "code",
   "execution_count": 22,
   "metadata": {},
   "outputs": [
    {
     "name": "stdout",
     "output_type": "stream",
     "text": [
      "Mean Absolute Error: 0.0049801540269151555\n",
      "Mean Squared Error: 5.610312471047968e-05\n",
      "Root Mean Squared Error: 0.007490201913865853\n",
      "R-squared Error: 0.42029799799808976\n"
     ]
    },
    {
     "data": {
      "image/png": "[encoded data removed]",
      "text/plain": [
       "<Figure size 432x288 with 1 Axes>"
      ]
     },
     "metadata": {
      "needs_background": "light"
     },
     "output_type": "display_data"
    }
   ],
   "source": [
    "print('Mean Absolute Error:', metrics.mean_absolute_error(y_test, y_pred))  \n",
    "print('Mean Squared Error:', metrics.mean_squared_error(y_test, y_pred))  \n",
    "print('Root Mean Squared Error:', np.sqrt(metrics.mean_squared_error(y_test, y_pred)))\n",
    "print('R-squared Error:', metrics.r2_score(y_test, y_pred))\n",
    "\n",
    "plt.scatter(X_test, y_test,  color='gray')\n",
    "plt.plot(X_test, y_pred, color='red', linewidth=2)\n",
    "plt.show()"
   ]
  },
  {
   "cell_type": "markdown",
   "metadata": {},
   "source": [
    "The results are slightly better than volume. We can see the R-squared Error is 46% which is better than the previous model but MSE is 5.9 which is fairly high given that the mean of all QQQ volatility is .01. This model definitely performs better but not by much. With the plot we can see the variation. "
   ]
  },
  {
   "cell_type": "markdown",
   "metadata": {},
   "source": [
    "#### Lets try a multiple regression and add in the previous day QQQ volatility and see if we can strengthen our prediction"
   ]
  },
  {
   "cell_type": "code",
   "execution_count": 23,
   "metadata": {},
   "outputs": [
    {
     "data": {
      "text/html": [
       "<div>\n",
       "<style scoped>\n",
       "    .dataframe tbody tr th:only-of-type {\n",
       "        vertical-align: middle;\n",
       "    }\n",
       "\n",
       "    .dataframe tbody tr th {\n",
       "        vertical-align: top;\n",
       "    }\n",
       "\n",
       "    .dataframe thead th {\n",
       "        text-align: right;\n",
       "    }\n",
       "</style>\n",
       "<table border=\"1\" class=\"dataframe\">\n",
       "  <thead>\n",
       "    <tr style=\"text-align: right;\">\n",
       "      <th></th>\n",
       "      <th>SPY</th>\n",
       "      <th>QQQ</th>\n",
       "      <th>prev_spy</th>\n",
       "      <th>prev_qqq</th>\n",
       "    </tr>\n",
       "  </thead>\n",
       "  <tbody>\n",
       "    <tr>\n",
       "      <th>count</th>\n",
       "      <td>1257.000000</td>\n",
       "      <td>1257.000000</td>\n",
       "      <td>1257.000000</td>\n",
       "      <td>1257.000000</td>\n",
       "    </tr>\n",
       "    <tr>\n",
       "      <th>mean</th>\n",
       "      <td>0.010721</td>\n",
       "      <td>0.013507</td>\n",
       "      <td>0.010721</td>\n",
       "      <td>0.013502</td>\n",
       "    </tr>\n",
       "    <tr>\n",
       "      <th>std</th>\n",
       "      <td>0.009798</td>\n",
       "      <td>0.010432</td>\n",
       "      <td>0.009798</td>\n",
       "      <td>0.010429</td>\n",
       "    </tr>\n",
       "    <tr>\n",
       "      <th>min</th>\n",
       "      <td>0.001229</td>\n",
       "      <td>0.002455</td>\n",
       "      <td>0.001229</td>\n",
       "      <td>0.002455</td>\n",
       "    </tr>\n",
       "    <tr>\n",
       "      <th>25%</th>\n",
       "      <td>0.005056</td>\n",
       "      <td>0.006897</td>\n",
       "      <td>0.005056</td>\n",
       "      <td>0.006897</td>\n",
       "    </tr>\n",
       "    <tr>\n",
       "      <th>50%</th>\n",
       "      <td>0.007720</td>\n",
       "      <td>0.010217</td>\n",
       "      <td>0.007720</td>\n",
       "      <td>0.010217</td>\n",
       "    </tr>\n",
       "    <tr>\n",
       "      <th>75%</th>\n",
       "      <td>0.012472</td>\n",
       "      <td>0.016341</td>\n",
       "      <td>0.012472</td>\n",
       "      <td>0.016341</td>\n",
       "    </tr>\n",
       "    <tr>\n",
       "      <th>max</th>\n",
       "      <td>0.085252</td>\n",
       "      <td>0.091672</td>\n",
       "      <td>0.085252</td>\n",
       "      <td>0.091672</td>\n",
       "    </tr>\n",
       "  </tbody>\n",
       "</table>\n",
       "</div>"
      ],
      "text/plain": [
       "               SPY          QQQ     prev_spy     prev_qqq\n",
       "count  1257.000000  1257.000000  1257.000000  1257.000000\n",
       "mean      0.010721     0.013507     0.010721     0.013502\n",
       "std       0.009798     0.010432     0.009798     0.010429\n",
       "min       0.001229     0.002455     0.001229     0.002455\n",
       "25%       0.005056     0.006897     0.005056     0.006897\n",
       "50%       0.007720     0.010217     0.007720     0.010217\n",
       "75%       0.012472     0.016341     0.012472     0.016341\n",
       "max       0.085252     0.091672     0.085252     0.091672"
      ]
     },
     "execution_count": 23,
     "metadata": {},
     "output_type": "execute_result"
    }
   ],
   "source": [
    "qqq_vol = vola_df[['SPY', 'QQQ']]\n",
    "qqq_vol['prev_spy'] = qqq_vol['SPY'].shift(1)\n",
    "qqq_vol['prev_qqq'] = qqq_vol['QQQ'].shift(1)\n",
    "qqq_vol.dropna(inplace=True)\n",
    "qqq_vol.describe()"
   ]
  },
  {
   "cell_type": "code",
   "execution_count": 24,
   "metadata": {},
   "outputs": [
    {
     "data": {
      "text/html": [
       "<div>\n",
       "<style scoped>\n",
       "    .dataframe tbody tr th:only-of-type {\n",
       "        vertical-align: middle;\n",
       "    }\n",
       "\n",
       "    .dataframe tbody tr th {\n",
       "        vertical-align: top;\n",
       "    }\n",
       "\n",
       "    .dataframe thead th {\n",
       "        text-align: right;\n",
       "    }\n",
       "</style>\n",
       "<table border=\"1\" class=\"dataframe\">\n",
       "  <thead>\n",
       "    <tr style=\"text-align: right;\">\n",
       "      <th></th>\n",
       "      <th>Coefficient</th>\n",
       "    </tr>\n",
       "  </thead>\n",
       "  <tbody>\n",
       "    <tr>\n",
       "      <th>prev_spy</th>\n",
       "      <td>0.528305</td>\n",
       "    </tr>\n",
       "    <tr>\n",
       "      <th>prev_qqq</th>\n",
       "      <td>0.264745</td>\n",
       "    </tr>\n",
       "  </tbody>\n",
       "</table>\n",
       "</div>"
      ],
      "text/plain": [
       "          Coefficient\n",
       "prev_spy     0.528305\n",
       "prev_qqq     0.264745"
      ]
     },
     "execution_count": 24,
     "metadata": {},
     "output_type": "execute_result"
    }
   ],
   "source": [
    "X = qqq_vol[['prev_spy', 'prev_qqq']].values\n",
    "y = qqq_vol['QQQ'].values\n",
    "\n",
    "X_train, X_test, y_train, y_test = train_test_split(X, y, test_size=0.2, random_state=0)\n",
    "regressor.fit(X_train, y_train)\n",
    "\n",
    "coeff_df = pd.DataFrame(regressor.coef_, ['prev_spy', 'prev_qqq'], columns=['Coefficient'])  \n",
    "coeff_df\n",
    "\n"
   ]
  },
  {
   "cell_type": "code",
   "execution_count": 25,
   "metadata": {},
   "outputs": [
    {
     "data": {
      "text/html": [
       "<div>\n",
       "<style scoped>\n",
       "    .dataframe tbody tr th:only-of-type {\n",
       "        vertical-align: middle;\n",
       "    }\n",
       "\n",
       "    .dataframe tbody tr th {\n",
       "        vertical-align: top;\n",
       "    }\n",
       "\n",
       "    .dataframe thead th {\n",
       "        text-align: right;\n",
       "    }\n",
       "</style>\n",
       "<table border=\"1\" class=\"dataframe\">\n",
       "  <thead>\n",
       "    <tr style=\"text-align: right;\">\n",
       "      <th></th>\n",
       "      <th>Actual</th>\n",
       "      <th>Predicted</th>\n",
       "    </tr>\n",
       "  </thead>\n",
       "  <tbody>\n",
       "    <tr>\n",
       "      <th>0</th>\n",
       "      <td>0.033939</td>\n",
       "      <td>0.015788</td>\n",
       "    </tr>\n",
       "    <tr>\n",
       "      <th>1</th>\n",
       "      <td>0.006018</td>\n",
       "      <td>0.008400</td>\n",
       "    </tr>\n",
       "    <tr>\n",
       "      <th>2</th>\n",
       "      <td>0.022677</td>\n",
       "      <td>0.014347</td>\n",
       "    </tr>\n",
       "    <tr>\n",
       "      <th>3</th>\n",
       "      <td>0.037843</td>\n",
       "      <td>0.014689</td>\n",
       "    </tr>\n",
       "    <tr>\n",
       "      <th>4</th>\n",
       "      <td>0.009698</td>\n",
       "      <td>0.008615</td>\n",
       "    </tr>\n",
       "  </tbody>\n",
       "</table>\n",
       "</div>"
      ],
      "text/plain": [
       "     Actual  Predicted\n",
       "0  0.033939   0.015788\n",
       "1  0.006018   0.008400\n",
       "2  0.022677   0.014347\n",
       "3  0.037843   0.014689\n",
       "4  0.009698   0.008615"
      ]
     },
     "execution_count": 25,
     "metadata": {},
     "output_type": "execute_result"
    }
   ],
   "source": [
    "y_pred = regressor.predict(X_test)\n",
    "\n",
    "eval_data = pd.DataFrame({'Actual': y_test.flatten(), 'Predicted': y_pred.flatten()})\n",
    "eval_data.head()"
   ]
  },
  {
   "cell_type": "code",
   "execution_count": 26,
   "metadata": {},
   "outputs": [
    {
     "data": {
      "image/png": "[encoded data removed]",
      "text/plain": [
       "<Figure size 720x576 with 1 Axes>"
      ]
     },
     "metadata": {
      "needs_background": "light"
     },
     "output_type": "display_data"
    }
   ],
   "source": [
    "plot_data = eval_data.head(30)\n",
    "plot_data.plot(kind='bar',figsize=(10,8))\n",
    "plt.grid(which='major', linestyle='-', linewidth='0.5', color='green')\n",
    "plt.grid(which='minor', linestyle=':', linewidth='0.5', color='black')\n",
    "plt.show()"
   ]
  },
  {
   "cell_type": "code",
   "execution_count": 27,
   "metadata": {},
   "outputs": [
    {
     "name": "stdout",
     "output_type": "stream",
     "text": [
      "Mean Absolute Error: 0.00483758115801375\n",
      "Mean Squared Error: 5.309072872833521e-05\n",
      "Root Mean Squared Error: 0.0072863384994340755\n",
      "R-squared Error: 0.4514244636037651\n"
     ]
    }
   ],
   "source": [
    "print('Mean Absolute Error:', metrics.mean_absolute_error(y_test, y_pred))  \n",
    "print('Mean Squared Error:', metrics.mean_squared_error(y_test, y_pred))  \n",
    "print('Root Mean Squared Error:', np.sqrt(metrics.mean_squared_error(y_test, y_pred)))\n",
    "print('R-squared Error:', metrics.r2_score(y_test, y_pred))"
   ]
  },
  {
   "cell_type": "markdown",
   "metadata": {},
   "source": [
    "- The Root Mean Squared Error is .007 which is about half of the mean .013\n",
    "- The algorithm was not accurate and can be confirmed unreliable\n",
    "\n",
    "The model did increase the R-squared Error by a slight amount from 46% to 48%and the MSE did decline by .02 so this is a stronger model than the previous single regression model but not enough to consider reliable"
   ]
  },
  {
   "cell_type": "markdown",
   "metadata": {},
   "source": [
    "### Going to turn attention on to stocks Tesla in particular vs  Amazon"
   ]
  },
  {
   "cell_type": "code",
   "execution_count": 55,
   "metadata": {},
   "outputs": [],
   "source": [
    "tsla = {'TSLA': web.get_data_yahoo('TSLA')}\n",
    "tsla_df = tsla['TSLA']\n",
    "\n",
    "amzn = {'AMZN': web.get_data_yahoo('AMZN')}\n",
    "amzn_df = amzn['AMZN']\n",
    "\n",
    "tsla_df['Volatility'] = volatility(tsla_df)\n",
    "amzn_df['Volatility'] = volatility(amzn_df)\n",
    "\n",
    "tsla_volume_delta, tsla_vola_delta = _delta(tsla_df)\n",
    "tsla_df['Volume_Delta'] = tsla_volume_delta\n",
    "tsla_df['Volatility_Delta'] = tsla_vola_delta\n",
    "\n",
    "amzn_volume_delta, amzn_vola_delta = _delta(amzn_df)\n",
    "amzn_df['Volume_Delta'] = amzn_volume_delta\n",
    "amzn_df['Volatility_Delta'] = amzn_vola_delta"
   ]
  },
  {
   "cell_type": "code",
   "execution_count": 56,
   "metadata": {},
   "outputs": [
    {
     "data": {
      "text/html": [
       "<div>\n",
       "<style scoped>\n",
       "    .dataframe tbody tr th:only-of-type {\n",
       "        vertical-align: middle;\n",
       "    }\n",
       "\n",
       "    .dataframe tbody tr th {\n",
       "        vertical-align: top;\n",
       "    }\n",
       "\n",
       "    .dataframe thead th {\n",
       "        text-align: right;\n",
       "    }\n",
       "</style>\n",
       "<table border=\"1\" class=\"dataframe\">\n",
       "  <thead>\n",
       "    <tr style=\"text-align: right;\">\n",
       "      <th></th>\n",
       "      <th>High</th>\n",
       "      <th>Low</th>\n",
       "      <th>Open</th>\n",
       "      <th>Close</th>\n",
       "      <th>Volume</th>\n",
       "      <th>Adj Close</th>\n",
       "      <th>Volatility</th>\n",
       "      <th>Volume_Delta</th>\n",
       "      <th>Volatility_Delta</th>\n",
       "    </tr>\n",
       "  </thead>\n",
       "  <tbody>\n",
       "    <tr>\n",
       "      <th>High</th>\n",
       "      <td>1.000000</td>\n",
       "      <td>0.998722</td>\n",
       "      <td>0.999129</td>\n",
       "      <td>0.999202</td>\n",
       "      <td>0.467453</td>\n",
       "      <td>0.999202</td>\n",
       "      <td>0.390362</td>\n",
       "      <td>0.005643</td>\n",
       "      <td>0.015617</td>\n",
       "    </tr>\n",
       "    <tr>\n",
       "      <th>Low</th>\n",
       "      <td>0.998722</td>\n",
       "      <td>1.000000</td>\n",
       "      <td>0.998831</td>\n",
       "      <td>0.998949</td>\n",
       "      <td>0.451334</td>\n",
       "      <td>0.998949</td>\n",
       "      <td>0.356030</td>\n",
       "      <td>-0.007825</td>\n",
       "      <td>-0.007964</td>\n",
       "    </tr>\n",
       "    <tr>\n",
       "      <th>Open</th>\n",
       "      <td>0.999129</td>\n",
       "      <td>0.998831</td>\n",
       "      <td>1.000000</td>\n",
       "      <td>0.998074</td>\n",
       "      <td>0.458165</td>\n",
       "      <td>0.998074</td>\n",
       "      <td>0.376230</td>\n",
       "      <td>-0.004065</td>\n",
       "      <td>0.005183</td>\n",
       "    </tr>\n",
       "    <tr>\n",
       "      <th>Close</th>\n",
       "      <td>0.999202</td>\n",
       "      <td>0.998949</td>\n",
       "      <td>0.998074</td>\n",
       "      <td>1.000000</td>\n",
       "      <td>0.459087</td>\n",
       "      <td>1.000000</td>\n",
       "      <td>0.373015</td>\n",
       "      <td>0.001289</td>\n",
       "      <td>0.008161</td>\n",
       "    </tr>\n",
       "    <tr>\n",
       "      <th>Volume</th>\n",
       "      <td>0.467453</td>\n",
       "      <td>0.451334</td>\n",
       "      <td>0.458165</td>\n",
       "      <td>0.459087</td>\n",
       "      <td>1.000000</td>\n",
       "      <td>0.459087</td>\n",
       "      <td>0.630607</td>\n",
       "      <td>0.355378</td>\n",
       "      <td>0.210807</td>\n",
       "    </tr>\n",
       "    <tr>\n",
       "      <th>Adj Close</th>\n",
       "      <td>0.999202</td>\n",
       "      <td>0.998949</td>\n",
       "      <td>0.998074</td>\n",
       "      <td>1.000000</td>\n",
       "      <td>0.459087</td>\n",
       "      <td>1.000000</td>\n",
       "      <td>0.373015</td>\n",
       "      <td>0.001289</td>\n",
       "      <td>0.008161</td>\n",
       "    </tr>\n",
       "    <tr>\n",
       "      <th>Volatility</th>\n",
       "      <td>0.390362</td>\n",
       "      <td>0.356030</td>\n",
       "      <td>0.376230</td>\n",
       "      <td>0.373015</td>\n",
       "      <td>0.630607</td>\n",
       "      <td>0.373015</td>\n",
       "      <td>1.000000</td>\n",
       "      <td>0.294750</td>\n",
       "      <td>0.466448</td>\n",
       "    </tr>\n",
       "    <tr>\n",
       "      <th>Volume_Delta</th>\n",
       "      <td>0.005643</td>\n",
       "      <td>-0.007825</td>\n",
       "      <td>-0.004065</td>\n",
       "      <td>0.001289</td>\n",
       "      <td>0.355378</td>\n",
       "      <td>0.001289</td>\n",
       "      <td>0.294750</td>\n",
       "      <td>1.000000</td>\n",
       "      <td>0.612686</td>\n",
       "    </tr>\n",
       "    <tr>\n",
       "      <th>Volatility_Delta</th>\n",
       "      <td>0.015617</td>\n",
       "      <td>-0.007964</td>\n",
       "      <td>0.005183</td>\n",
       "      <td>0.008161</td>\n",
       "      <td>0.210807</td>\n",
       "      <td>0.008161</td>\n",
       "      <td>0.466448</td>\n",
       "      <td>0.612686</td>\n",
       "      <td>1.000000</td>\n",
       "    </tr>\n",
       "  </tbody>\n",
       "</table>\n",
       "</div>"
      ],
      "text/plain": [
       "                      High       Low      Open     Close    Volume  Adj Close  \\\n",
       "High              1.000000  0.998722  0.999129  0.999202  0.467453   0.999202   \n",
       "Low               0.998722  1.000000  0.998831  0.998949  0.451334   0.998949   \n",
       "Open              0.999129  0.998831  1.000000  0.998074  0.458165   0.998074   \n",
       "Close             0.999202  0.998949  0.998074  1.000000  0.459087   1.000000   \n",
       "Volume            0.467453  0.451334  0.458165  0.459087  1.000000   0.459087   \n",
       "Adj Close         0.999202  0.998949  0.998074  1.000000  0.459087   1.000000   \n",
       "Volatility        0.390362  0.356030  0.376230  0.373015  0.630607   0.373015   \n",
       "Volume_Delta      0.005643 -0.007825 -0.004065  0.001289  0.355378   0.001289   \n",
       "Volatility_Delta  0.015617 -0.007964  0.005183  0.008161  0.210807   0.008161   \n",
       "\n",
       "                  Volatility  Volume_Delta  Volatility_Delta  \n",
       "High                0.390362      0.005643          0.015617  \n",
       "Low                 0.356030     -0.007825         -0.007964  \n",
       "Open                0.376230     -0.004065          0.005183  \n",
       "Close               0.373015      0.001289          0.008161  \n",
       "Volume              0.630607      0.355378          0.210807  \n",
       "Adj Close           0.373015      0.001289          0.008161  \n",
       "Volatility          1.000000      0.294750          0.466448  \n",
       "Volume_Delta        0.294750      1.000000          0.612686  \n",
       "Volatility_Delta    0.466448      0.612686          1.000000  "
      ]
     },
     "execution_count": 56,
     "metadata": {},
     "output_type": "execute_result"
    }
   ],
   "source": [
    "tsla_df.corr()"
   ]
  },
  {
   "cell_type": "markdown",
   "metadata": {},
   "source": [
    "I am going to attempt to see if we can predict tomorrows close is higher or lower than the current days. I am going to make it a binary classification.\n",
    "\n",
    "- 1 : will signal that the close will be higher\n",
    "- 0 : will signal that the close will be lower"
   ]
  },
  {
   "cell_type": "code",
   "execution_count": 79,
   "metadata": {},
   "outputs": [],
   "source": [
    "tsla_df['prev_close'] = tsla_df['Close'].shift(1)\n",
    "\n",
    "def return_binary(row):\n",
    "    if row['Close'] > row['prev_close']:\n",
    "        return 1\n",
    "    else:\n",
    "        return 0\n",
    "    \n",
    "tsla_df['tomorrow_close'] = tsla_df.apply(lambda row: return_binary(row), axis=1)"
   ]
  },
  {
   "cell_type": "code",
   "execution_count": 78,
   "metadata": {},
   "outputs": [
    {
     "name": "stdout",
     "output_type": "stream",
     "text": [
      "Higher:  645\n",
      "Lower:  611\n"
     ]
    }
   ],
   "source": [
    "tsla_df.dropna(inplace=True)\n",
    "print('Higher: ', len([item for item in tsla_df['tomorrow_close'] if item == 1]))\n",
    "print('Lower: ', len([item for item in tsla_df['tomorrow_close'] if item == 0]))"
   ]
  },
  {
   "cell_type": "code",
   "execution_count": 67,
   "metadata": {},
   "outputs": [
    {
     "data": {
      "text/plain": [
       "LogisticRegression()"
      ]
     },
     "execution_count": 67,
     "metadata": {},
     "output_type": "execute_result"
    }
   ],
   "source": [
    "from sklearn.linear_model import LogisticRegression\n",
    "from sklearn.metrics import classification_report\n",
    "\n",
    "X = tsla_df[['High', 'Low', 'Open', 'prev_close', 'Volume']]\n",
    "y = tsla_df['tomorrow_close']\n",
    "\n",
    "X_train, X_test, y_train, y_test = train_test_split(X, y, test_size=0.3, random_state=123)\n",
    "\n",
    "\n",
    "logmodel = LogisticRegression()\n",
    "logmodel.fit(X_train, y_train)"
   ]
  },
  {
   "cell_type": "code",
   "execution_count": 68,
   "metadata": {},
   "outputs": [
    {
     "data": {
      "text/plain": [
       "array([1, 1, 1, 1, 1, 1, 1, 1, 1, 1, 1, 1, 1, 1, 1, 1, 1, 1, 1, 1, 1, 1,\n",
       "       1, 1, 1, 1, 1, 1, 1, 1, 1, 1, 1, 1, 1, 1, 1, 1, 1, 1, 1, 1, 1, 1,\n",
       "       1, 1, 1, 1, 1, 1, 1, 1, 1, 1, 1, 1, 1, 1, 1, 1, 1, 1, 1, 1, 1, 1,\n",
       "       1, 1, 1, 1, 1, 1, 1, 1, 1, 1, 1, 1, 1, 1, 1, 1, 1, 1, 1, 1, 1, 1,\n",
       "       1, 1, 1, 1, 1, 1, 1, 1, 1, 1, 1, 1, 1, 1, 1, 1, 1, 1, 1, 1, 1, 1,\n",
       "       1, 1, 1, 1, 1, 1, 1, 1, 1, 1, 1, 1, 1, 1, 1, 1, 1, 1, 1, 1, 1, 1,\n",
       "       1, 1, 1, 1, 1, 1, 1, 1, 1, 1, 1, 1, 1, 1, 1, 1, 1, 1, 1, 1, 1, 1,\n",
       "       1, 1, 1, 1, 1, 1, 1, 1, 1, 1, 1, 1, 1, 1, 1, 1, 1, 1, 1, 1, 1, 1,\n",
       "       1, 1, 1, 1, 1, 1, 1, 1, 1, 1, 1, 1, 1, 1, 1, 1, 1, 1, 1, 1, 1, 1,\n",
       "       1, 1, 1, 1, 1, 1, 1, 1, 1, 1, 1, 1, 1, 1, 1, 1, 1, 1, 1, 1, 1, 1,\n",
       "       1, 1, 1, 1, 1, 1, 1, 1, 1, 1, 1, 1, 1, 1, 1, 1, 1, 1, 1, 1, 1, 1,\n",
       "       1, 1, 1, 1, 1, 1, 1, 1, 1, 1, 1, 1, 1, 1, 1, 1, 1, 1, 1, 1, 1, 1,\n",
       "       1, 1, 1, 1, 1, 1, 1, 1, 1, 1, 1, 1, 1, 1, 1, 1, 1, 1, 1, 1, 1, 1,\n",
       "       1, 1, 1, 1, 1, 1, 1, 1, 1, 1, 1, 1, 1, 1, 1, 1, 1, 1, 1, 1, 1, 1,\n",
       "       1, 1, 1, 1, 1, 1, 1, 1, 1, 1, 1, 1, 1, 1, 1, 1, 1, 1, 1, 1, 1, 1,\n",
       "       1, 1, 1, 1, 1, 1, 1, 1, 1, 1, 1, 1, 1, 1, 1, 1, 1, 1, 1, 1, 1, 1,\n",
       "       1, 1, 1, 1, 1, 1, 1, 1, 1, 1, 1, 1, 1, 1, 1, 1, 1, 1, 1, 1, 1, 1,\n",
       "       1, 1, 1, 1], dtype=int64)"
      ]
     },
     "execution_count": 68,
     "metadata": {},
     "output_type": "execute_result"
    }
   ],
   "source": [
    "predictions = logmodel.predict(X_test)\n",
    "predictions"
   ]
  },
  {
   "cell_type": "code",
   "execution_count": 69,
   "metadata": {},
   "outputs": [
    {
     "name": "stdout",
     "output_type": "stream",
     "text": [
      "              precision    recall  f1-score   support\n",
      "\n",
      "           0       0.00      0.00      0.00       162\n",
      "           1       0.57      1.00      0.73       216\n",
      "\n",
      "    accuracy                           0.57       378\n",
      "   macro avg       0.29      0.50      0.36       378\n",
      "weighted avg       0.33      0.57      0.42       378\n",
      "\n"
     ]
    },
    {
     "name": "stderr",
     "output_type": "stream",
     "text": [
      "c:\\users\\andrew\\appdata\\local\\programs\\python\\python38\\lib\\site-packages\\sklearn\\metrics\\_classification.py:1221: UndefinedMetricWarning: Precision and F-score are ill-defined and being set to 0.0 in labels with no predicted samples. Use `zero_division` parameter to control this behavior.\n",
      "  _warn_prf(average, modifier, msg_start, len(result))\n"
     ]
    }
   ],
   "source": [
    "\n",
    "print(classification_report(y_test, predictions))"
   ]
  },
  {
   "cell_type": "code",
   "execution_count": 54,
   "metadata": {},
   "outputs": [
    {
     "data": {
      "image/png": "[encoded data removed]",
      "text/plain": [
       "<Figure size 432x288 with 1 Axes>"
      ]
     },
     "metadata": {
      "needs_background": "light"
     },
     "output_type": "display_data"
    }
   ],
   "source": [
    "probs_y=logmodel.predict_proba(X_test) \n",
    "\n",
    "fpr, tpr, thresholds = metrics.roc_curve(y_test,probs_y[:,1])\n",
    "\n",
    "plt.plot(fpr, tpr)\n",
    "plt.xlim([0.0, 1.0])\n",
    "plt.ylim([0.0, 1.0])\n",
    "plt.rcParams['font.size'] = 12\n",
    "plt.title('ROC curve for behavior classifier')\n",
    "plt.xlabel('False Positive Rate (1 - Specificity)')\n",
    "plt.ylabel('True Positive Rate (Sensitivity)')\n",
    "plt.grid(True)"
   ]
  },
  {
   "cell_type": "markdown",
   "metadata": {},
   "source": [
    "Obviously the results are fairly poor with an F-1 of 57%. All of the predictions fall to 1 which the algo is thinking it the price will close to higher than the day previous. The dataset is fairly balanced between the two classes. We also see the the ROC curve is not actually a curve but a straight line. This also backs up the poor performance of the model. "
   ]
  },
  {
   "cell_type": "code",
   "execution_count": null,
   "metadata": {},
   "outputs": [],
   "source": []
  },
  {
   "cell_type": "code",
   "execution_count": null,
   "metadata": {},
   "outputs": [],
   "source": []
  }
 ],
 "metadata": {
  "kernelspec": {
   "display_name": "Python 3",
   "language": "python",
   "name": "python3"
  },
  "language_info": {
   "codemirror_mode": {
    "name": "ipython",
    "version": 3
   },
   "file_extension": ".py",
   "mimetype": "text/x-python",
   "name": "python",
   "nbconvert_exporter": "python",
   "pygments_lexer": "ipython3",
   "version": "3.8.0"
  }
 },
 "nbformat": 4,
 "nbformat_minor": 2
}
